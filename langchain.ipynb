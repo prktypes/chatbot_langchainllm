{
 "cells": [
  {
   "cell_type": "code",
   "execution_count": 4,
   "id": "4ad018dd",
   "metadata": {},
   "outputs": [],
   "source": [
    "from dotenv import load_dotenv\n",
    "import os"
   ]
  },
  {
   "cell_type": "code",
   "execution_count": 5,
   "id": "91699c19",
   "metadata": {},
   "outputs": [],
   "source": [
    "load_dotenv()\n",
    "api_token = os.getenv(\"HF_TOKEN\")\n",
    "os.environ[\"HF_TOKEN\"] = api_token"
   ]
  },
  {
   "cell_type": "code",
   "execution_count": 6,
   "id": "d21a85e9",
   "metadata": {},
   "outputs": [
    {
     "name": "stderr",
     "output_type": "stream",
     "text": [
      "c:\\Users\\olive\\OneDrive\\Desktop\\GenAI\\LangChain-LLM-App\\.venv\\Lib\\site-packages\\tqdm\\auto.py:21: TqdmWarning: IProgress not found. Please update jupyter and ipywidgets. See https://ipywidgets.readthedocs.io/en/stable/user_install.html\n",
      "  from .autonotebook import tqdm as notebook_tqdm\n"
     ]
    }
   ],
   "source": [
    "from langchain_huggingface import HuggingFaceEndpoint\n",
    "\n",
    "llm = HuggingFaceEndpoint(\n",
    "    repo_id=\"HuggingFaceH4/zephyr-7b-beta\",\n",
    "    temperature=0.7,\n",
    "    max_new_tokens=128,\n",
    ")"
   ]
  },
  {
   "cell_type": "code",
   "execution_count": 7,
   "id": "bdf22dd3",
   "metadata": {},
   "outputs": [
    {
     "name": "stderr",
     "output_type": "stream",
     "text": [
      "C:\\Users\\olive\\AppData\\Local\\Temp\\ipykernel_10212\\4122642992.py:1: LangChainDeprecationWarning: The method `BaseLLM.predict` was deprecated in langchain-core 0.1.7 and will be removed in 1.0. Use :meth:`~invoke` instead.\n",
      "  llm.predict(\"Will it rain tomorrow in Kerela, India?\")\n"
     ]
    },
    {
     "data": {
      "text/plain": [
       "'\\n\\nNo, it will not rain tomorrow in Kerela, India. The forecast for tomorrow, April 27, 2021, in Kerela, India, shows mostly sunny weather with a low chance of rain. The maximum temperature will be around 34°C (93°F) and the minimum temperature will be around 26°C (79°F). It is recommended to check the forecast closer to the date as weather conditions can change.'"
      ]
     },
     "execution_count": 7,
     "metadata": {},
     "output_type": "execute_result"
    }
   ],
   "source": [
    "llm.predict(\"Will it rain tomorrow in Kerela, India?\")"
   ]
  },
  {
   "cell_type": "markdown",
   "id": "1477a533",
   "metadata": {},
   "source": [
    "Prompt Template"
   ]
  },
  {
   "cell_type": "code",
   "execution_count": 8,
   "id": "836ef52a",
   "metadata": {},
   "outputs": [
    {
     "data": {
      "text/plain": [
       "'What is the capital of India?'"
      ]
     },
     "execution_count": 8,
     "metadata": {},
     "output_type": "execute_result"
    }
   ],
   "source": [
    "from langchain.prompts import PromptTemplate\n",
    "\n",
    "prompt = PromptTemplate(\n",
    "    input_variables=['country'],\n",
    "    template=\"What is the capital of {country}?\"\n",
    ")\n",
    "\n",
    "prompt.format(country=\"India\")"
   ]
  },
  {
   "cell_type": "code",
   "execution_count": 9,
   "id": "2e290641",
   "metadata": {},
   "outputs": [
    {
     "name": "stderr",
     "output_type": "stream",
     "text": [
      "C:\\Users\\olive\\AppData\\Local\\Temp\\ipykernel_10212\\2366910417.py:2: LangChainDeprecationWarning: The class `LLMChain` was deprecated in LangChain 0.1.17 and will be removed in 1.0. Use :meth:`~RunnableSequence, e.g., `prompt | llm`` instead.\n",
      "  chain  = LLMChain(\n",
      "C:\\Users\\olive\\AppData\\Local\\Temp\\ipykernel_10212\\2366910417.py:6: LangChainDeprecationWarning: The method `Chain.run` was deprecated in langchain 0.1.0 and will be removed in 1.0. Use :meth:`~invoke` instead.\n",
      "  print(chain.run(\"India\"))\n"
     ]
    },
    {
     "name": "stdout",
     "output_type": "stream",
     "text": [
      "\n",
      "\n",
      "I was asked this question by my little sister the other day. As I was explaining her, I realized that this is one of the most frequently asked questions about India.\n",
      "\n",
      "It is a simple question, but the answer is not very straightforward. The answer is – New Delhi. But that is not the whole story.\n",
      "\n",
      "Let’s dive a little deeper to understand the history behind this question.\n",
      "\n",
      "India is a country that is home to many languages, religions, and cultures. It is also a country that has been ruled by various dynasties and empires over the centuries.\n",
      "\n",
      "D\n"
     ]
    }
   ],
   "source": [
    "from langchain.chains import LLMChain\n",
    "chain  = LLMChain(\n",
    "    llm=llm,\n",
    "    prompt=prompt\n",
    ")\n",
    "print(chain.run(\"India\"))"
   ]
  },
  {
   "cell_type": "markdown",
   "id": "766c688b",
   "metadata": {},
   "source": [
    "Combining Multiple Chains using Simple Sequential Chain"
   ]
  },
  {
   "cell_type": "code",
   "execution_count": 10,
   "id": "41bd3c22",
   "metadata": {},
   "outputs": [],
   "source": [
    "capital_template = PromptTemplate(\n",
    "    input_variables=['country'],\n",
    "    template=\"Tell me the capital of {country}\"\n",
    ")\n",
    "\n",
    "capital_chain =  LLMChain(\n",
    "    llm=llm,\n",
    "    prompt=capital_template\n",
    ")\n",
    "\n",
    "famous_template = PromptTemplate(\n",
    "    input_variables=['capital'],\n",
    "    template = \"Suggest me some amazing places to visit in {capital}\"\n",
    ")\n",
    "\n",
    "famous_chain = LLMChain(\n",
    "    llm=llm,\n",
    "    prompt=famous_template\n",
    ")\n"
   ]
  },
  {
   "cell_type": "code",
   "execution_count": 11,
   "id": "90b4b752",
   "metadata": {},
   "outputs": [
    {
     "data": {
      "text/plain": [
       "' Delhi\" because they both fall under the National Capital Territory of Delhi (NCT), which is the administrative division that governs the region.\\n\\nBut technically, Delhi is a larger entity that includes several other districts, while New Delhi is just one of them. So, when you\\'re talking about the city, it\\'s best to refer to it as New Delhi, and when you\\'re referring to the state, use \"Delhi.\"\\n\\nNow that we\\'ve cleared that up, let\\'s talk about some amazing places to visit in New Delhi.\\n\\n1. Red Fort: This iconic fort'"
      ]
     },
     "execution_count": 11,
     "metadata": {},
     "output_type": "execute_result"
    }
   ],
   "source": [
    "from langchain.chains import SimpleSequentialChain\n",
    "chain=SimpleSequentialChain(chains = [capital_chain,famous_chain])\n",
    "chain.run(\"India\")"
   ]
  },
  {
   "cell_type": "markdown",
   "id": "48b29476",
   "metadata": {},
   "source": [
    "Sequential Chain"
   ]
  },
  {
   "cell_type": "code",
   "execution_count": 12,
   "id": "fa01aeac",
   "metadata": {},
   "outputs": [],
   "source": [
    "capital_template = PromptTemplate(\n",
    "    input_variables=['country'],\n",
    "    template=\"Tell me the capital of {country}\"\n",
    ")\n",
    "\n",
    "capital_chain =  LLMChain(\n",
    "    llm=llm,\n",
    "    prompt=capital_template,\n",
    "    output_key=\"capital\"\n",
    ")"
   ]
  },
  {
   "cell_type": "code",
   "execution_count": 13,
   "id": "15c69b6f",
   "metadata": {},
   "outputs": [],
   "source": [
    "famous_template = PromptTemplate(\n",
    "    input_variables=['capital'],\n",
    "    template = \"Suggest me some amazing places to visit in {capital}\"\n",
    ")\n",
    "\n",
    "famous_chain = LLMChain(\n",
    "    llm=llm,\n",
    "    prompt=famous_template,\n",
    "    output_key=\"places\"\n",
    ")"
   ]
  },
  {
   "cell_type": "code",
   "execution_count": 14,
   "id": "6db72bd9",
   "metadata": {},
   "outputs": [],
   "source": [
    "from langchain.chains import SequentialChain\n",
    "chain = SequentialChain(\n",
    "    chains=[capital_chain,famous_chain],\n",
    "    input_variables=['country'],\n",
    "    output_variables=['capital','places']\n",
    ")"
   ]
  },
  {
   "cell_type": "code",
   "execution_count": 15,
   "id": "faa96b29",
   "metadata": {},
   "outputs": [
    {
     "name": "stderr",
     "output_type": "stream",
     "text": [
      "C:\\Users\\olive\\AppData\\Local\\Temp\\ipykernel_10212\\3887600226.py:1: LangChainDeprecationWarning: The method `Chain.__call__` was deprecated in langchain 0.1.0 and will be removed in 1.0. Use :meth:`~invoke` instead.\n",
      "  chain({'country':'India'})\n"
     ]
    },
    {
     "data": {
      "text/plain": [
       "{'country': 'India',\n",
       " 'capital': '.\\n\\nThe capital city of India is New Delhi, which is also the seat of the Government of India. New Delhi is located in the northern part of India and is one of the 23 districts of the National Capital Territory of Delhi. Delhi has been the capital city of India since its independence in 1947, and New Delhi has been the administrative center since it was founded in 1911 as the capital of British India.\\n\\nThe city is home to several important national institutions and landmarks, including the Presidential Palace, the Parliament of India, and the Supreme Court of India. It',\n",
       " 'places': \" also houses the majority of India's foreign embassies and high commissions, making it a major diplomatic hub.\\n\\nHere are some amazing places to visit in New Delhi:\\n\\n1. Red Fort (Lal Quila): This iconic fort, built by Mughal Emperor Shah Jahan in 1638, is a symbol of India's independence and serves as the backdrop for the country's annual Independence Day celebrations. The fort houses several museums that showcase India's rich history and culture.\\n\\n2. Humayun's Tomb: This UN\"}"
      ]
     },
     "execution_count": 15,
     "metadata": {},
     "output_type": "execute_result"
    }
   ],
   "source": [
    "chain({'country':'India'})"
   ]
  },
  {
   "cell_type": "code",
   "execution_count": 29,
   "id": "8e13c439",
   "metadata": {},
   "outputs": [],
   "source": [
    "from langchain_huggingface import HuggingFaceEndpoint\n",
    "from langchain.chains import ConversationChain\n",
    "from langchain.memory import ConversationBufferMemory\n",
    "import os\n",
    "\n",
    "os.environ[\"HF_API_TOKEN\"] = os.getenv(\"HF_TOKEN\")\n",
    "\n",
    "llm = HuggingFaceEndpoint(\n",
    "    repo_id=\"HuggingFaceH4/zephyr-7b-beta\",\n",
    "    huggingfacehub_api_token=os.environ[\"HF_API_TOKEN\"],\n",
    "    temperature=0.7,\n",
    "    max_new_tokens=128,\n",
    ")\n",
    "memory = ConversationBufferMemory(\n",
    "    memory_key=\"history\",\n",
    ")\n",
    "\n",
    "conversation = ConversationChain(\n",
    "    llm=llm,\n",
    "    memory=memory,\n",
    "    verbose=True,\n",
    ")"
   ]
  },
  {
   "cell_type": "markdown",
   "id": "a0f5ceb2",
   "metadata": {},
   "source": [
    "How to Build StreamLit UI"
   ]
  },
  {
   "cell_type": "code",
   "execution_count": null,
   "id": "5b3a0829",
   "metadata": {},
   "outputs": [],
   "source": [
    "import streamlit as st\n",
    "\n",
    "st.set_page_config(page_title=\"AI ChatBot\", layout=\"centered\", page_icon=\":robot:\")\n",
    "st.title(\"ChatBot using LangChain with HuggingFace\")\n",
    "\n",
    "if(\"chat_history\" not in st.session_state):\n",
    "    st.session_state[\"chat_history\"] = []\n",
    "\n",
    "#user input\n",
    "\n",
    "user_input = st.input(\"You : \",key=\"input\")\n",
    "\n",
    "if user_input:\n",
    "    response = conversation.predict(input=user_input)\n",
    "    st.session_state.chat_history.append((\"You: \",user_input))\n",
    "    st.session_state.chat_history.append((\"Bot: \",response))\n",
    "    st.experimental_rerun();"
   ]
  }
 ],
 "metadata": {
  "kernelspec": {
   "display_name": ".venv",
   "language": "python",
   "name": "python3"
  },
  "language_info": {
   "codemirror_mode": {
    "name": "ipython",
    "version": 3
   },
   "file_extension": ".py",
   "mimetype": "text/x-python",
   "name": "python",
   "nbconvert_exporter": "python",
   "pygments_lexer": "ipython3",
   "version": "3.13.3"
  }
 },
 "nbformat": 4,
 "nbformat_minor": 5
}
